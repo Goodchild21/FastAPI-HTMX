{
 "cells": [
  {
   "cell_type": "code",
   "execution_count": 1,
   "metadata": {},
   "outputs": [
    {
     "name": "stdout",
     "output_type": "stream",
     "text": [
      "5da7fbdb-4940-4d30-9a66-8d2444aeea0f\n"
     ]
    }
   ],
   "source": [
    "import uuid\n",
    "# Converting the hex_string to uuid4 format\n",
    "hex_string = \"5da7fbdb49404d309a668d2444aeea0f\"\n",
    "uuid_value = uuid.UUID(hex=hex_string)\n",
    "\n",
    "print(uuid_value)\n"
   ]
  }
 ],
 "metadata": {
  "kernelspec": {
   "display_name": ".venv",
   "language": "python",
   "name": "python3"
  },
  "language_info": {
   "codemirror_mode": {
    "name": "ipython",
    "version": 3
   },
   "file_extension": ".py",
   "mimetype": "text/x-python",
   "name": "python",
   "nbconvert_exporter": "python",
   "pygments_lexer": "ipython3",
   "version": "3.11.1"
  }
 },
 "nbformat": 4,
 "nbformat_minor": 2
}
