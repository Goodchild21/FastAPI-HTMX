{
 "cells": [
  {
   "cell_type": "code",
   "execution_count": 1,
   "metadata": {},
   "outputs": [
    {
     "name": "stdout",
     "output_type": "stream",
     "text": [
      "5da7fbdb-4940-4d30-9a66-8d2444aeea0f\n"
     ]
    }
   ],
   "source": [
    "import uuid\n",
    "# Converting the hex_string to uuid4 format\n",
    "hex_string = \"5da7fbdb49404d309a668d2444aeea0f\"\n",
    "uuid_value = uuid.UUID(hex=hex_string)\n",
    "\n",
    "print(uuid_value)\n"
   ]
  },
  {
   "cell_type": "code",
   "execution_count": 2,
   "metadata": {},
   "outputs": [
    {
     "name": "stdout",
     "output_type": "stream",
     "text": [
      "113afc9f293b7e293f3af973582d4cf98750a247fc1858d2f5db54bfd07d090cc315716aa71797fd14a646fa7fd18919a399dec2fe381ecd62b6957f914b3f26\n"
     ]
    }
   ],
   "source": [
    "import secrets\n",
    "\n",
    "secret = secrets.token_hex(64)\n",
    "print(secret)"
   ]
  }
 ],
 "metadata": {
  "kernelspec": {
   "display_name": ".venv",
   "language": "python",
   "name": "python3"
  },
  "language_info": {
   "codemirror_mode": {
    "name": "ipython",
    "version": 3
   },
   "file_extension": ".py",
   "mimetype": "text/x-python",
   "name": "python",
   "nbconvert_exporter": "python",
   "pygments_lexer": "ipython3",
   "version": "3.11.1"
  }
 },
 "nbformat": 4,
 "nbformat_minor": 2
}
